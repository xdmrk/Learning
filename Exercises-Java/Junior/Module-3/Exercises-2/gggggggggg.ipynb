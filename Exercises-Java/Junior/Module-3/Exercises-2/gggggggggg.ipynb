{
 "cells": [
  {
   "cell_type": "markdown",
   "metadata": {},
   "source": [
    "# Conceptos del lenguaje"
   ]
  },
  {
   "cell_type": "markdown",
   "metadata": {},
   "source": [
    "## Manejo de errores y excepciones en Java\n",
    "Los términos error y excepción se utilizan para manejar problemas que ocurren durante la ejecución de un programa, pero tienen significados y usos diferentes.\n",
    "\n",
    "![Errores y Excepciones en Java](https://jarroba.com/wp-content/uploads/2014/10/Exception_jarroba_diagramClass.png)"
   ]
  },
  {
   "cell_type": "markdown",
   "metadata": {},
   "source": [
    "### ¿Qué entendemos como errores?"
   ]
  },
  {
   "cell_type": "markdown",
   "metadata": {},
   "source": [
    "Son **problemas graves** que generalmente indican que la JVM (Java Virtual Machine) **no puede continuar ejecutando el programa**. Estos problemas suelen ser externos al control del programa y es poco probable que se puedan recuperar de ellos.\n",
    "\n",
    "#### Características principales\n",
    "- No se espera que sean manejados o capturados.\n",
    "- Son condiciones críticas, como problemas de memoria (`OutOfMemoryError`), fallos en el hardware, errores de inicialización del sistema, entre otros.\n",
    "- Derivan de la clase `Error`, que es una subclase de `Throwable`."
   ]
  },
  {
   "cell_type": "markdown",
   "metadata": {},
   "source": [
    "### ¿Qué entendemos como excepciones?"
   ]
  },
  {
   "cell_type": "markdown",
   "metadata": {},
   "source": [
    "Son **condiciones anómalas** que ocurren durante la ejecución de un programa y que un programa **puede manejar** y de las cuales **puede recuperarse**.\n",
    "\n",
    "#### Características principales:\n",
    "- Se espera que se manejen usando bloques `try-catch`.\n",
    "- Pueden ser **verificadas** (checked) o **no verificadas** (unchecked).\n",
    "- Derivan de la clase `Exception`, que también es una subclase de `Throwable`.\n",
    "\n",
    "![Jerarquia de Excepciones](https://cdn.javarush.com/images/article/f23906db-7512-4047-985d-8ddb6bbc99c9/1024.webp)\n",
    "\n",
    "#### Excepciones Verificadas (_Checked_)\n",
    "- Son excepciones que deben ser declaradas en el método que las puede lanzar o deben ser capturadas.\n",
    "- Ejemplo: `IOException`, `SQLException`.\n",
    "\n",
    "#### Excepciones No Verificadas (_Unchecked_)\n",
    "- Son excepciones que no requieren ser declaradas ni capturadas obligatoriamente.\n",
    "- Ejemplo: `NullPointerException`, `ArrayIndexOutOfBoundsException`.\n",
    "\n",
    "![Tipos de excepciones](https://cdn.javarush.com/images/article/2e4a84d4-3d29-41a2-b6f9-32ae87e9ee96/1024.webp)"
   ]
  },
  {
   "cell_type": "markdown",
   "metadata": {},
   "source": [
    "### Por que es importante el manejo de excepciones en el desarrollo profesional"
   ]
  },
  {
   "cell_type": "markdown",
   "metadata": {},
   "source": [
    "- Al manejar excepciones, los desarrolladores pueden crear aplicaciones más robustas que no se bloqueen ante eventos inesperados.\n",
    "- Facilita el mantenimiento del código, ya que permite identificar y manejar errores de manera organizada.\n",
    "- Ayuda a prevenir problemas de seguridad al manejar adecuadamente las excepciones y evitar que se propaguen.\n",
    "- Mejorar la experiencia del usuario al proporcionar mensajes de error claros y evitar bloqueos inesperados.\n"
   ]
  },
  {
   "cell_type": "code",
   "execution_count": null,
   "metadata": {
    "vscode": {
     "languageId": "java"
    }
   },
   "outputs": [],
   "source": [
    "public static void main(String arg[]) {\n",
    "    int [] array = new int[20];\n",
    "    array[-3] = 24;\n",
    "}"
   ]
  },
  {
   "cell_type": "markdown",
   "metadata": {},
   "source": [
    "### Lanzar excepciones"
   ]
  },
  {
   "cell_type": "markdown",
   "metadata": {},
   "source": [
    "Puedes lanzar excepciones de manera explícita utilizando la palabra clave `throw`. Esto es útil cuando deseas indicar que ha ocurrido una condición excepcional en tu código que debe ser manejada por otro bloque de código."
   ]
  },
  {
   "cell_type": "code",
   "execution_count": null,
   "metadata": {
    "vscode": {
     "languageId": "java"
    }
   },
   "outputs": [],
   "source": [
    "throw new Exception(\"Mensaje de la excepción\");"
   ]
  },
  {
   "cell_type": "markdown",
   "metadata": {},
   "source": [
    "### Estructura `try-catch`"
   ]
  },
  {
   "cell_type": "markdown",
   "metadata": {},
   "source": [
    "La estructura `try-catch` se utiliza para capturar y manejar excepciones que pueden ocurrir durante la ejecución de un bloque de código.  \n",
    "La sintaxis básica es:\n",
    "1. **Bloque `try`**: Contiene el código que podría lanzar una excepción.\n",
    "1. **Bloque `catch`**: Captura y maneja la excepción lanzada. Puedes tener múltiples bloques catch para manejar diferentes tipos de excepciones."
   ]
  },
  {
   "cell_type": "code",
   "execution_count": null,
   "metadata": {
    "vscode": {
     "languageId": "java"
    }
   },
   "outputs": [],
   "source": [
    "try {\n",
    "    // Código que puede generar una excepción\n",
    "} catch (TipoDeExcepcion e) {\n",
    "    // Código para manejar la excepción\n",
    "}"
   ]
  },
  {
   "cell_type": "markdown",
   "metadata": {},
   "source": [
    "**Ejemplo**"
   ]
  },
  {
   "cell_type": "code",
   "execution_count": null,
   "metadata": {
    "vscode": {
     "languageId": "java"
    }
   },
   "outputs": [],
   "source": [
    "try {\n",
    "    var array = new int[5];\n",
    "    array[10] = 1;\n",
    "} catch (ArrayIndexOutOfBoundsException e) {\n",
    "    System.out.println(\"Índice fuera de los límites del array!\");\n",
    "}"
   ]
  },
  {
   "cell_type": "markdown",
   "metadata": {},
   "source": [
    "#### Bloque `finally`\n",
    "El bloque `finally` es _opcional_ y se utiliza para ejecutar código que debe ejecutarse siempre, independientemente de si se produjo una excepción o no.  \n",
    "Es especialmente útil para liberar recursos como conexiones de base de datos o archivos abiertos."
   ]
  },
  {
   "cell_type": "code",
   "execution_count": null,
   "metadata": {
    "vscode": {
     "languageId": "java"
    }
   },
   "outputs": [],
   "source": [
    "try {\n",
    "    // Código que puede generar una excepción\n",
    "} catch (TipoDeExcepcion e) {\n",
    "    // Código para manejar la excepción\n",
    "} finally {\n",
    "    // Código que se ejecuta siempre\n",
    "}"
   ]
  },
  {
   "cell_type": "markdown",
   "metadata": {},
   "source": [
    "### Estructura `try-with-resources`"
   ]
  },
  {
   "cell_type": "markdown",
   "metadata": {},
   "source": [
    "El concepto de `try-with-resources` en Java es una característica muy útil introducida en Java 7 que facilita la gestión de recursos, como archivos, conexiones de base de datos, y otros tipos de flujos de entrada/salida (E/S).  \n",
    "\n",
    "Permite declarar uno o más recursos que serán automáticamente cerrados al finalizar el bloque `try`. Un **recurso** es cualquier objeto que implemente la interfaz `java.lang.AutoCloseable`, lo cual incluye la interfaz `java.io.Closeable`."
   ]
  },
  {
   "cell_type": "code",
   "execution_count": null,
   "metadata": {
    "vscode": {
     "languageId": "java"
    }
   },
   "outputs": [],
   "source": [
    "try (var recurso = new Recurso()) {\n",
    "    // Código que utiliza el recurso\n",
    "} catch (TipoDeExcepcion e) {\n",
    "    // Manejo de excepciones\n",
    "}"
   ]
  },
  {
   "cell_type": "code",
   "execution_count": null,
   "metadata": {
    "vscode": {
     "languageId": "java"
    }
   },
   "outputs": [],
   "source": [
    "try (var r1 = new Recurso1();\n",
    "     var r2 = new Recurso2()) {\n",
    "    // Código que utiliza r1 y r2\n",
    "} catch (TipoDeExcepcion e) {\n",
    "    // Manejo de excepciones\n",
    "}\n"
   ]
  },
  {
   "cell_type": "markdown",
   "metadata": {},
   "source": [
    "#### Ventajas de `try-with-resources`\n",
    "- **Gestión Automática de Recursos**: Los recursos se cierran automáticamente al final del bloque `try`, sin importar si se produjo una excepción o no.\n",
    "- **Código Más Limpio y Legible**: Elimina la necesidad de escribir bloques `finally` para cerrar recursos manualmente.\n",
    "- **Reducción de Errores**: Minimiza el riesgo de fugas de recursos (como archivos abiertos o conexiones de base de datos).\n",
    "\n",
    "El uso de `try-with-resources` simplifica la gestión de recursos y garantiza que sean cerrados de manera adecuada, mejorando la legibilidad y robustez del código. Esta característica es especialmente útil para trabajar con flujos de E/S y otros recursos que necesitan ser cerrados explícitamente."
   ]
  },
  {
   "cell_type": "markdown",
   "metadata": {},
   "source": [
    "#### Ejemplo"
   ]
  },
  {
   "cell_type": "code",
   "execution_count": null,
   "metadata": {
    "vscode": {
     "languageId": "java"
    }
   },
   "outputs": [],
   "source": [
    "import java.util.Scanner;\n",
    "\n",
    "public class EjemploTryWithResourcesScanner {\n",
    "    public static void main(String[] args) {\n",
    "        try (var scanner = new Scanner(System.in)) {\n",
    "            System.out.print(\"Por favor, introduce tu nombre: \");\n",
    "            var nombre = scanner.nextLine();\n",
    "            System.out.print(\"Por favor, introduce tu edad: \");\n",
    "            var edad = scanner.nextInt();\n",
    "            System.out.printf(\"Hola, %s. Tienes %d años.%n\", nombre, edad);\n",
    "        } catch (Exception e) {\n",
    "            System.out.println(\"Ocurrió un error: \" + e.getMessage());\n",
    "        }\n",
    "    }\n",
    "}"
   ]
  },
  {
   "cell_type": "markdown",
   "metadata": {},
   "source": [
    "### Distintas opciones de manejo de excepciones en el bloque `catch`"
   ]
  },
  {
   "cell_type": "markdown",
   "metadata": {},
   "source": [
    "El bloque `catch` en Java es extremadamente flexible y permite manejar las excepciones de varias maneras.\n",
    "\n",
    "##### 1. Capturar una excepción específica"
   ]
  },
  {
   "cell_type": "code",
   "execution_count": null,
   "metadata": {
    "vscode": {
     "languageId": "java"
    }
   },
   "outputs": [],
   "source": [
    "try {\n",
    "    // Código que puede generar una excepción\n",
    "} catch (IOException e) {\n",
    "    // Manejo específico para IOException\n",
    "}"
   ]
  },
  {
   "cell_type": "markdown",
   "metadata": {},
   "source": [
    "##### 2. Capturar múltiples excepciones independientes"
   ]
  },
  {
   "cell_type": "code",
   "execution_count": null,
   "metadata": {
    "vscode": {
     "languageId": "java"
    }
   },
   "outputs": [],
   "source": [
    "try {\n",
    "    // Código que puede generar múltiples excepciones     \n",
    "} catch (ArrayIndexOutOfBoundsException e) {\n",
    "    // Manejo específico para ArrayIndexOutOfBoundsException\n",
    "} catch (NumberFormatException e) {\n",
    "    // Manejo específico para NumberFormatException\n",
    "}"
   ]
  },
  {
   "cell_type": "markdown",
   "metadata": {},
   "source": [
    "##### 3. Capturar múltiples excepciones\n",
    "Desde Java 7, puedes capturar múltiples excepciones en un solo bloque catch usando el operador de tuberia o pipe (`|`)."
   ]
  },
  {
   "cell_type": "code",
   "execution_count": null,
   "metadata": {
    "vscode": {
     "languageId": "java"
    }
   },
   "outputs": [],
   "source": [
    "try {\n",
    "    // Código que puede generar varias excepciones\n",
    "} catch (IOException | SQLException e) {\n",
    "    // Manejo común para IOException y SQLException\n",
    "}"
   ]
  },
  {
   "cell_type": "markdown",
   "metadata": {},
   "source": [
    "##### 4. Capturar subclases de excepciones"
   ]
  },
  {
   "cell_type": "code",
   "execution_count": null,
   "metadata": {
    "vscode": {
     "languageId": "java"
    }
   },
   "outputs": [],
   "source": [
    "try {\n",
    "    // Código que puede generar una excepción\n",
    "} catch (Exception e) {\n",
    "    // Manejo para cualquier excepción que derive de Exception\n",
    "}"
   ]
  },
  {
   "cell_type": "markdown",
   "metadata": {},
   "source": [
    "##### 5. Capturar y proveer una respuesta alternativa"
   ]
  },
  {
   "cell_type": "code",
   "execution_count": null,
   "metadata": {
    "vscode": {
     "languageId": "java"
    }
   },
   "outputs": [],
   "source": [
    "try { \n",
    "    int resultado = Integer.parseInt(\"abc\"); // Esto genera NumberFormatException\n",
    "} catch (NumberFormatException e) {\n",
    "    int resultado = 0; // Valor por defecto\n",
    "    System.out.println(\"Valor no válido, usando 0 como predeterminado.\");\n",
    "}"
   ]
  },
  {
   "cell_type": "markdown",
   "metadata": {},
   "source": [
    "##### 6. Capturar y encadenar excepciones"
   ]
  },
  {
   "cell_type": "code",
   "execution_count": null,
   "metadata": {
    "vscode": {
     "languageId": "java"
    }
   },
   "outputs": [],
   "source": [
    "try {\n",
    "    // Código que puede generar una excepción\n",
    "} catch (IOException e) {\n",
    "    throw new RuntimeException(\"Error al procesar archivo\", e);\n",
    "}"
   ]
  },
  {
   "cell_type": "markdown",
   "metadata": {},
   "source": [
    "##### 7. Re-lanzar la misma excepción"
   ]
  },
  {
   "cell_type": "code",
   "execution_count": null,
   "metadata": {
    "vscode": {
     "languageId": "java"
    }
   },
   "outputs": [],
   "source": [
    "try {\n",
    "    // Código que puede generar una excepción\n",
    "} catch (IOException e) {\n",
    "    System.out.println(\"Ocurrió un error, re-lanzando excepción.\"); \n",
    "    throw e; \n",
    "}"
   ]
  },
  {
   "cell_type": "markdown",
   "metadata": {},
   "source": [
    "##### 8. Capturar y mostrar los detalles de la excepción\n",
    "El método `printStackTrace()` pertenece a la clase `Throwable`, que es la superclase de todas las excepciones y errores en Java.  \n",
    "Este método se utiliza para imprimir la _traza de la pila_ (stack trace) de la excepción en el flujo de error estándar. \n",
    "\n",
    "El propósito principal de `printStackTrace()` es proporcionar una representación detallada del estado del programa en el momento en que se lanzó la excepción, mostrando la secuencia exacta de llamadas de método que llevaron a la excepción. Esto es muy útil para depurar y localizar el origen del problema."
   ]
  },
  {
   "cell_type": "code",
   "execution_count": null,
   "metadata": {
    "vscode": {
     "languageId": "java"
    }
   },
   "outputs": [],
   "source": [
    "try {\n",
    "    // Código que puede generar una excepción\n",
    "} catch (IOException e) {\n",
    "    e.printStackTrace();\n",
    "}"
   ]
  },
  {
   "cell_type": "markdown",
   "metadata": {},
   "source": [
    "La salida de `printStackTrace()` podría verse algo así:"
   ]
  },
  {
   "cell_type": "code",
   "execution_count": null,
   "metadata": {
    "vscode": {
     "languageId": "java"
    }
   },
   "outputs": [],
   "source": [
    "java.lang.Exception: Esta es una excepción de ejemplo\n",
    "    at EjemploPrintStackTrace.metodoQueLanzaExcepcion(EjemploPrintStackTrace.java:10)\n",
    "    at EjemploPrintStackTrace.main(EjemploPrintStackTrace.java:5)"
   ]
  },
  {
   "cell_type": "markdown",
   "metadata": {},
   "source": [
    "- **Tipo de Excepción**: java.lang.Exception\n",
    "- **Mensaje**: \"Esta es una excepción de ejemplo\"\n",
    "- **Pila de Llamadas**: Lista de llamadas de método que llevaron a la excepción, incluyendo los nombres de los métodos, el nombre del archivo fuente y el número de línea."
   ]
  },
  {
   "cell_type": "markdown",
   "metadata": {},
   "source": [
    "### Creación de excepciones personalizadas"
   ]
  },
  {
   "cell_type": "markdown",
   "metadata": {},
   "source": [
    "Es una práctica útil cuando necesitas manejar situaciones específicas que no están cubiertas por las excepciones estándar de Java.\n",
    "\n",
    "#### ¿Por qué crear nuevas excepciones?\n",
    "- **Claridad**: Permite describir con mayor precisión el tipo de error que ha ocurrido.\n",
    "- **Mantenimiento**: Facilita el mantenimiento del código al proporcionar excepciones específicas para diferentes condiciones de error.\n",
    "- **Reutilización**: Las excepciones personalizadas pueden reutilizarse en diferentes partes de la aplicación, lo que mejora la consistencia.\n",
    "\n",
    "#### Pasos para crear excepciones personalizadas\n",
    "##### 1. Definir la clase de excepción personalizada\n",
    "Para crear una excepción personalizada, debes definir una nueva clase que extienda `Exception` o `RuntimeException`, dependiendo de si deseas que la excepción sea verificada (checked) o no verificada (unchecked).\n",
    "\n",
    "**Ejemplo de excepción verificada (_checked_)**"
   ]
  },
  {
   "cell_type": "code",
   "execution_count": null,
   "metadata": {
    "vscode": {
     "languageId": "java"
    }
   },
   "outputs": [],
   "source": [
    "public class MiExcepcionVerificada extends Exception {\n",
    "    // Constructor con un mensaje de error\n",
    "    public MiExcepcionVerificada(String mensaje) {\n",
    "        super(mensaje);\n",
    "    }\n",
    "    \n",
    "    // Constructor con un mensaje de error y una causa\n",
    "    public MiExcepcionVerificada(String mensaje, Throwable causa) {\n",
    "        super(mensaje, causa);\n",
    "    }\n",
    "}"
   ]
  },
  {
   "cell_type": "markdown",
   "metadata": {},
   "source": [
    "**Ejemplo de excepción no verificada (_unchecked_)**"
   ]
  },
  {
   "cell_type": "code",
   "execution_count": null,
   "metadata": {
    "vscode": {
     "languageId": "java"
    }
   },
   "outputs": [],
   "source": [
    "public class MiExcepcionNoVerificada extends RuntimeException {\n",
    "    // Constructor con un mensaje de error\n",
    "    public MiExcepcionNoVerificada(String mensaje) {\n",
    "        super(mensaje);\n",
    "    }\n",
    "    \n",
    "    // Constructor con un mensaje de error y una causa\n",
    "    public MiExcepcionNoVerificada(String mensaje, Throwable causa) {\n",
    "        super(mensaje, causa);\n",
    "    }\n",
    "}"
   ]
  },
  {
   "cell_type": "markdown",
   "metadata": {},
   "source": [
    "##### 2. Lanzar la excepción personalizada\n",
    "Para lanzar tu excepción personalizada, utiliza la palabra clave `throw` en el código donde desees que se genere la excepción."
   ]
  },
  {
   "cell_type": "code",
   "execution_count": null,
   "metadata": {
    "vscode": {
     "languageId": "java"
    }
   },
   "outputs": [],
   "source": [
    "public class VerificadorDeEdad {\n",
    "    public static void verificarEdad(int edad) throws MiExcepcionVerificada {\n",
    "        if (edad < 18) {\n",
    "            throw new MiExcepcionVerificada(\"La edad debe ser mayor o igual a 18.\");\n",
    "        }\n",
    "    }\n",
    "\n",
    "    public static void main(String[] args) {\n",
    "        try {\n",
    "            verificarEdad(16); // Esto lanzará MiExcepcionVerificada\n",
    "        } catch (MiExcepcionVerificada e) {\n",
    "            System.out.println(\"Error: \" + e.getMessage());\n",
    "        }\n",
    "    }\n",
    "}"
   ]
  },
  {
   "cell_type": "markdown",
   "metadata": {},
   "source": [
    "##### 3. Capturar y manejar la excepción"
   ]
  },
  {
   "cell_type": "code",
   "execution_count": null,
   "metadata": {
    "vscode": {
     "languageId": "java"
    }
   },
   "outputs": [],
   "source": [
    "public class EjemploManejo {\n",
    "    public static void main(String[] args) {\n",
    "        try {\n",
    "            metodoQueLanzaExcepcionPersonalizada();\n",
    "        } catch (MiExcepcionVerificada e) {\n",
    "            System.out.println(\"Capturada MiExcepcionVerificada: \" + e.getMessage());\n",
    "        }\n",
    "    }\n",
    "\n",
    "    public static void metodoQueLanzaExcepcionPersonalizada() throws MiExcepcionVerificada {\n",
    "        throw new MiExcepcionVerificada(\"Ocurrió un error personalizado.\");\n",
    "    }\n",
    "}"
   ]
  },
  {
   "cell_type": "markdown",
   "metadata": {},
   "source": [
    "### Manejo de excepciones verificadas (_checked_)"
   ]
  },
  {
   "cell_type": "markdown",
   "metadata": {},
   "source": [
    "Manejar excepciones verificadas en los métodos de Java tiene varias implicaciones que afectan tanto la estructura del código como la forma en que se diseñan y manejan los errores.\n",
    "\n",
    "#### 1. Declaración obligatoria de excepciones\n",
    "Cuando un método puede lanzar una excepción verificada, debe declarar esta posibilidad en su firma utilizando la cláusula `throws`.  \n",
    "Esto obliga a los desarrolladores a pensar y documentar qué excepciones pueden ocurrir, lo que puede mejorar la claridad y la documentación del código."
   ]
  },
  {
   "cell_type": "code",
   "execution_count": null,
   "metadata": {
    "vscode": {
     "languageId": "java"
    }
   },
   "outputs": [],
   "source": [
    "public void leerArchivo(String nombreArchivo) throws IOException {\n",
    "    // Código que puede lanzar IOException\n",
    "}"
   ]
  },
  {
   "cell_type": "markdown",
   "metadata": {},
   "source": [
    "#### 2. Manejo obligatorio de excepciones\n",
    "Los métodos que llaman a otros métodos que lanzan excepciones verificadas deben manejar estas excepciones, ya sea capturándolas con bloques `try-catch` o declarando que también las lanzan.  \n",
    "Esto garantiza que las excepciones no se pasen por alto y que se manejen de manera adecuada en algún nivel del código."
   ]
  },
  {
   "cell_type": "code",
   "execution_count": null,
   "metadata": {
    "vscode": {
     "languageId": "java"
    }
   },
   "outputs": [],
   "source": [
    "public void procesarArchivo(String nombreArchivo) {\n",
    "    try {\n",
    "        leerArchivo(nombreArchivo); // Manejo con try-catch\n",
    "    } catch (IOException e) {\n",
    "        e.printStackTrace();\n",
    "    }\n",
    "}"
   ]
  },
  {
   "cell_type": "code",
   "execution_count": null,
   "metadata": {
    "vscode": {
     "languageId": "java"
    }
   },
   "outputs": [],
   "source": [
    "public void procesarArchivo(String nombreArchivo) throws IOException {\n",
    "    leerArchivo(nombreArchivo); // Propagación de la excepción\n",
    "}"
   ]
  },
  {
   "cell_type": "markdown",
   "metadata": {},
   "source": [
    "#### 3. Propagación de excepciones\n",
    "Si un método no puede manejar una excepción, puede propagarla declarando la excepción en su propia firma utilizando `throws`.  \n",
    "Facilita la delegación de manejo de excepciones a niveles superiores de la aplicación, permitiendo que los métodos de nivel superior decidan cómo manejar las excepciones."
   ]
  },
  {
   "cell_type": "code",
   "execution_count": null,
   "metadata": {
    "vscode": {
     "languageId": "java"
    }
   },
   "outputs": [],
   "source": [
    "public void procesarArchivo(String nombreArchivo) throws IOException {\n",
    "    leerArchivo(nombreArchivo);\n",
    "}"
   ]
  },
  {
   "cell_type": "markdown",
   "metadata": {},
   "source": [
    "#### 4. Complejidad del código\n",
    "El manejo de excepciones verificadas puede aumentar la complejidad del código, ya que los desarrolladores deben asegurarse de capturar o propagar todas las excepciones verificadas. Esto puede resultar en bloques de código más extensos y complicados.  \n",
    "Si bien esto puede parecer una carga adicional, también puede conducir a un código más robusto y manejable a largo plazo."
   ]
  },
  {
   "cell_type": "code",
   "execution_count": null,
   "metadata": {
    "vscode": {
     "languageId": "java"
    }
   },
   "outputs": [],
   "source": [
    "public void procesarArchivo(String nombreArchivo) {\n",
    "    try {\n",
    "        leerArchivo(nombreArchivo);\n",
    "    } catch (IOException e) {\n",
    "        e.printStackTrace();\n",
    "    }\n",
    "}"
   ]
  },
  {
   "cell_type": "markdown",
   "metadata": {},
   "source": [
    "#### 5. Documentación y claridad\n",
    "Las excepciones verificadas obligan a los desarrolladores a documentar explícitamente qué excepciones pueden ser lanzadas por un método, mejorando la claridad y la documentación del código.  \n",
    "Esto proporciona a los usuarios del método una mejor comprensión de los posibles problemas que pueden enfrentar y cómo manejarlos."
   ]
  },
  {
   "cell_type": "code",
   "execution_count": null,
   "metadata": {
    "vscode": {
     "languageId": "java"
    }
   },
   "outputs": [],
   "source": [
    "/**\n",
    " * Lee el contenido de un archivo.\n",
    " * @param nombreArchivo El nombre del archivo a leer.\n",
    " * @throws IOException Si ocurre un error de E/S.\n",
    " */\n",
    "public void leerArchivo(String nombreArchivo) throws IOException {\n",
    "    // Código que puede lanzar IOException\n",
    "}"
   ]
  },
  {
   "cell_type": "markdown",
   "metadata": {},
   "source": [
    "### Buenas prácticas para manejar excepciones"
   ]
  },
  {
   "cell_type": "markdown",
   "metadata": {},
   "source": [
    "1. **Evita capturar `Exception` o `Throwable` directamente**: En lugar de capturar todas las excepciones generales, captura excepciones específicas que esperas que ocurran.\n",
    "1. **Usa mensajes claros y descriptivos**: Asegúrate de que los mensajes de error proporcionen suficiente información para diagnosticar el problema.\n",
    "    ```Java\n",
    "    throw new IllegalArgumentException(\"La cantidad no puede ser negativa: \" +\n",
    "    ```\n",
    "1. **Evita capturar y silenciar excepciones**: Capturar una excepción y no hacer nada con ella puede dificultar la depuración.\n",
    "    ```Java\n",
    "    try {\n",
    "        // Código que puede lanzar una Exception\n",
    "    } catch (Exception e) { }\n",
    "    ```\n",
    "1. **Libera recursos en el bloque `finally`**: Utiliza el bloque `finally` para asegurarte de que los recursos se liberen correctamente, incluso si ocurre una excepción.\n",
    "1. **Utiliza `try-with-resources` para cerrar automáticamente los recursos**: Esto es especialmente útil para manejar flujos de E/S y otros recursos que deben cerrarse.\n",
    "1. **Documenta las excepciones lanzadas por tus métodos**: Utiliza JavaDoc para describir qué excepciones puede lanzar un método y en qué condiciones.\n",
    "    ```Java\n",
    "    /**\n",
    "     * Lee el contenido de un archivo.\n",
    "     * @param nombreArchivo El nombre del archivo a leer.\n",
    "     * @throws IOException Si ocurre un error de E/S.\n",
    "     */\n",
    "    public void leerArchivo(String nombreArchivo) throws IOException {\n",
    "        // Implementación\n",
    "    }\n",
    "    ```\n",
    "1. **No utilices excepciones para control de flujo**: Las excepciones deben usarse para situaciones excepcionales, no para el flujo normal del programa.\n",
    "    ```Java\n",
    "    try {\n",
    "        // Código que siempre lanza una excepción para el control de flujo\n",
    "    } catch (SpecificException e) {\n",
    "        // Manejo de flujo normal\n",
    "    }\n",
    "    ```\n",
    "1. **Captura excepciones y lanza otras más descriptivas**: Si necesitas lanzar una excepción diferente, captura la original y lánzala como causa.\n",
    "    ```Java\n",
    "    try {\n",
    "        // Código que puede lanzar una excepción\n",
    "    } catch (IOException e) {\n",
    "        throw new CustomException(\"Error al procesar el archivo\", e);\n",
    "    }\n",
    "    ```\n",
    "1. **Establece y sigue un esquema claro para manejar excepciones**: Define una política de manejo de excepciones y asegúrate de que todos los desarrolladores del proyecto la sigan.\n",
    "1. **Revisa y refactoriza regularmente el código para mejorar el manejo de excepciones**: Asegúrate de que el manejo de excepciones sea eficiente y adecuado para el contexto del proyecto.\n"
   ]
  },
  {
   "cell_type": "markdown",
   "metadata": {},
   "source": [
    "## Ejercicio"
   ]
  },
  {
   "cell_type": "markdown",
   "metadata": {},
   "source": [
    "### Sistema de Gestión de Clientes y Pedidos\n",
    "Desarrolla un sistema de gestión de clientes y pedidos que permita a los usuarios registrar clientes, crear pedidos y buscar pedidos. El sistema debe manejar adecuadamente las excepciones relacionadas con la gestión de clientes y pedidos utilizando excepciones personalizadas tanto verificadas (checked) como no verificadas (unchecked).\n",
    "### Requisitos:\n",
    "1. Crea una excepción personalizada llamada `ClienteNoEncontradoException` que extienda `RuntimeException`. Esta excepción debe ser lanzada cuando se intente buscar un cliente que no exista en el sistema.\n",
    "1. Crea una excepción personalizada llamada `PedidoInvalidoException` que extienda `Exception`. Esta excepción debe ser lanzada cuando se intente crear un pedido con información inválida (por ejemplo, cantidad negativa o cliente inexistente).\n",
    "1. Crea una clase llamada `GestionClientes` que contenga métodos para registrar y buscar clientes.\n",
    "    - Método `registrarCliente(String id, String nombre)` que registre un cliente en el sistema.\n",
    "    - Método `buscarCliente(String id)` que lance `ClienteNoEncontradoException` si el cliente no existe.\n",
    "1. Crea una clase llamada `GestionPedidos` que contenga métodos para crear y buscar pedidos.\n",
    "    - Método `crearPedido(String clienteId, String producto, int cantidad)` que lance `PedidoInvalidoException` si la información del pedido es inválida.\n",
    "    - Método `buscarPedido(String clienteId, String producto)` que lance `ClienteNoEncontradoException` si el cliente no existe.\n",
    "1. Utiliza bloques `try-catch` para manejar las excepciones lanzadas por los métodos del `GestionClientes` y `GestionPedidos`. Proporciona mensajes de error adecuados para el usuario.\n",
    "1. Crea una clase principal que permita al usuario interactuar con el sistema de gestión de clientes y pedidos, y maneje las excepciones adecuadamente."
   ]
  },
  {
   "cell_type": "markdown",
   "metadata": {},
   "source": [
    "### Solución"
   ]
  },
  {
   "cell_type": "code",
   "execution_count": null,
   "metadata": {
    "vscode": {
     "languageId": "java"
    }
   },
   "outputs": [],
   "source": [
    "public class ClienteNoEncontradoException extends RuntimeException {\n",
    "    public ClienteNoEncontradoException(String mensaje) {\n",
    "        super(mensaje);\n",
    "    }\n",
    "}"
   ]
  },
  {
   "cell_type": "code",
   "execution_count": null,
   "metadata": {
    "vscode": {
     "languageId": "java"
    }
   },
   "outputs": [],
   "source": [
    "public class PedidoInvalidoException extends Exception {\n",
    "    public PedidoInvalidoException(String mensaje) {\n",
    "        super(mensaje);\n",
    "    }\n",
    "}"
   ]
  },
  {
   "cell_type": "code",
   "execution_count": null,
   "metadata": {
    "vscode": {
     "languageId": "java"
    }
   },
   "outputs": [],
   "source": [
    "import java.util.HashMap;\n",
    "import java.util.Map;\n",
    "\n",
    "public class GestionClientes {\n",
    "    private Map<String, String> clientes = new HashMap<>();\n",
    "\n",
    "    public void registrarCliente(String id, String nombre) {\n",
    "        clientes.put(id, nombre);\n",
    "    }\n",
    "\n",
    "    public String buscarCliente(String id) {\n",
    "        if (!clientes.containsKey(id)) {\n",
    "            throw new ClienteNoEncontradoException(\"El cliente con ID \" + id + \" no existe.\");\n",
    "        }\n",
    "        return clientes.get(id);\n",
    "    }\n",
    "}"
   ]
  },
  {
   "cell_type": "code",
   "execution_count": null,
   "metadata": {
    "vscode": {
     "languageId": "java"
    }
   },
   "outputs": [],
   "source": [
    "import java.util.HashMap;\n",
    "import java.util.Map;\n",
    "\n",
    "public class GestionPedidos {\n",
    "    private Map<String, Map<String, Integer>> pedidos = new HashMap<>();\n",
    "    private GestionClientes gestionClientes;\n",
    "\n",
    "    public GestionPedidos(GestionClientes gestionClientes){\n",
    "        this.gestionClientes = gestionClientes;\n",
    "    }\n",
    "\n",
    "    public void crearPedido(String clienteId, String producto, int cantidad) throws PedidoInvalidoException {\n",
    "        if (cantidad <= 0) {\n",
    "            throw new PedidoInvalidoException(\"La cantidad debe ser positiva.\");\n",
    "        }\n",
    "\n",
    "        try {\n",
    "            gestionClientes.buscarCliente(clienteId);\n",
    "        } catch (ClienteNoEncontradoException e) {\n",
    "            throw new PedidoInvalidoException(\"El cliente con ID \" + clienteId + \" no existe.\");\n",
    "        }\n",
    "\n",
    "        var pedidosCliente = pedidos.get(clienteId);\n",
    "        if(cliente == null) {\n",
    "            pedidosCliente = new HashMap<>();\n",
    "            pedidos.put(clienteId, pedidosCliente);\n",
    "        }\n",
    "\n",
    "        pedidosCliente.put(producto, cantidad);\n",
    "    }\n",
    "\n",
    "    public int buscarPedido(String clienteId, String producto) {\n",
    "        if (!pedidos.containsKey(clienteId)) {\n",
    "            throw new ClienteNoEncontradoException(\"El cliente con ID \" + clienteId + \" no existe.\");\n",
    "        }\n",
    "        return pedidos.get(clienteId).getOrDefault(producto, 0);\n",
    "    }\n",
    "}"
   ]
  },
  {
   "cell_type": "code",
   "execution_count": null,
   "metadata": {
    "vscode": {
     "languageId": "java"
    }
   },
   "outputs": [],
   "source": [
    "public class SistemaGestion {\n",
    "    public static void main(String[] args) {\n",
    "        var gestionClientes = new GestionClientes();\n",
    "        var gestionPedidos = new GestionPedidos(gestionClientes);\n",
    "\n",
    "        try {\n",
    "            gestionClientes.registrarCliente(\"C001\", \"Juan Perez\");\n",
    "            gestionPedidos.crearPedido(\"C001\", \"Laptop\", 2);\n",
    "            System.out.println(\"Cantidad de Laptops para C001: \" + gestionPedidos.buscarPedido(\"C001\", \"Laptop\"));\n",
    "            gestionPedidos.crearPedido(\"C002\", \"Monitor\", 1);\n",
    "        } catch (ClienteNoEncontradoException e) {\n",
    "            System.out.println(\"Error: \" + e.getMessage());\n",
    "        } catch (PedidoInvalidoException e) {\n",
    "            System.out.println(\"Error: \" + e.getMessage());\n",
    "        }\n",
    "\n",
    "        try {\n",
    "            gestionClientes.buscarCliente(\"C002\");\n",
    "        } catch (ClienteNoEncontradoException e) {\n",
    "            System.out.println(\"Error: \" + e.getMessage());\n",
    "        }\n",
    "    }\n",
    "}"
   ]
  }
 ],
 "metadata": {
  "language_info": {
   "name": "python"
  }
 },
 "nbformat": 4,
 "nbformat_minor": 2
}
